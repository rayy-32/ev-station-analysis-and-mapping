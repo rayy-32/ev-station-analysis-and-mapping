{
 "cells": [
  {
   "cell_type": "code",
   "execution_count": 1,
   "metadata": {},
   "outputs": [],
   "source": [
    "#Dependencies\n",
    "import pandas as pd\n",
    "from sqlalchemy import create_engine\n",
    "\n",
    "#Reading in data\n",
    "df = pd.read_csv('Resources/ev_stations_v1.csv', low_memory=False)\n",
    "#df.columns\n",
    "#df.head()"
   ]
  },
  {
   "cell_type": "code",
   "execution_count": 2,
   "metadata": {},
   "outputs": [
    {
     "data": {
      "text/plain": [
       "(50289, 10)"
      ]
     },
     "execution_count": 2,
     "metadata": {},
     "output_type": "execute_result"
    }
   ],
   "source": [
    "#Removing unecessary columns\n",
    "stations = df[['Station Name', \n",
    "                'Street Address', \n",
    "                'City', \n",
    "                'State', \n",
    "                'ZIP', \n",
    "                'Access Code', \n",
    "                'EV Network', \n",
    "                'EV Connector Types', \n",
    "                'Latitude', \n",
    "                'Longitude']]\n",
    "\n",
    "#stations.head()\n",
    "stations.shape"
   ]
  },
  {
   "cell_type": "code",
   "execution_count": 3,
   "metadata": {},
   "outputs": [
    {
     "data": {
      "text/plain": [
       "(50239, 10)"
      ]
     },
     "execution_count": 3,
     "metadata": {},
     "output_type": "execute_result"
    }
   ],
   "source": [
    "#Removing null values\n",
    "stations = stations.dropna()\n",
    "\n",
    "#stations.head()\n",
    "stations.shape"
   ]
  },
  {
   "cell_type": "code",
   "execution_count": 4,
   "metadata": {},
   "outputs": [
    {
     "data": {
      "text/plain": [
       "52"
      ]
     },
     "execution_count": 4,
     "metadata": {},
     "output_type": "execute_result"
    }
   ],
   "source": [
    "#Filtering data for only stations in the US (including Washington DC and Puerto Rico)\n",
    "stations = stations[stations['State'] != 'ON']\n",
    "#Removing 'ON' or Ontario\n",
    "\n",
    "#stations['State'].unique()\n",
    "#---------------------------------------------------------------------------\n",
    "#output:\n",
    "#array(['CA', 'VT', 'WA', 'OR', 'IL', 'ID', 'TX', 'TN', 'NY', 'FL', 'WI',\n",
    "#       'IA', 'MN', 'AR', 'AZ', 'CT', 'MD', 'NJ', 'SC', 'MI', 'OH', 'WV',\n",
    "#       'MO', 'UT', 'KS', 'MA', 'CO', 'IN', 'LA', 'NC', 'NH', 'VA', 'AL',\n",
    "#       'GA', 'HI', 'NV', 'DC', 'PA', 'RI', 'OK', 'ME', 'KY', 'NE', 'MS',\n",
    "#       'SD', 'DE', 'NM', 'MT', 'ND', 'WY', 'AK', 'PR', 'ON'], dtype=object)\n",
    "\n",
    "len(stations['State'].unique())"
   ]
  },
  {
   "cell_type": "code",
   "execution_count": 5,
   "metadata": {},
   "outputs": [
    {
     "data": {
      "text/plain": [
       "Index(['station_name', 'address', 'city', 'state', 'zip', 'access',\n",
       "       'ev_network', 'connector_type', 'lat', 'lng'],\n",
       "      dtype='object')"
      ]
     },
     "execution_count": 5,
     "metadata": {},
     "output_type": "execute_result"
    }
   ],
   "source": [
    "#Renaming columns\n",
    "rename = {'Station Name':'station_name', \n",
    "            'Street Address':'address', \n",
    "            'City':'city', \n",
    "            'State':'state', \n",
    "            'ZIP':'zip',\n",
    "            'Access Code':'access', \n",
    "            'EV Network':'ev_network', \n",
    "            'EV Connector Types':'connector_type',\n",
    "            'Latitude':'lat',\n",
    "            'Longitude':'lng'}\n",
    "\n",
    "stations = stations.rename(mapper=rename, axis=1)\n",
    "\n",
    "#stations.head()\n",
    "stations.columns"
   ]
  },
  {
   "cell_type": "code",
   "execution_count": 6,
   "metadata": {},
   "outputs": [],
   "source": [
    "# Resetting index\n",
    "stations = stations.reset_index()\n",
    "\n",
    "#stations.head()"
   ]
  },
  {
   "cell_type": "code",
   "execution_count": 7,
   "metadata": {},
   "outputs": [],
   "source": [
    "# Deleting extra index column\n",
    "del stations['index']\n",
    "\n",
    "#stations.head()"
   ]
  },
  {
   "cell_type": "code",
   "execution_count": 8,
   "metadata": {},
   "outputs": [],
   "source": [
    "#Creating engine to sqlite\n",
    "engine = create_engine('sqlite:///Resources/evstations.sqlite', echo=False)\n",
    "\n",
    "#Exporting to sqlite\n",
    "stations.to_sql(name='evstations', con=engine, if_exists='append', index=True)"
   ]
  },
  {
   "cell_type": "code",
   "execution_count": 9,
   "metadata": {},
   "outputs": [],
   "source": [
    "#Exporting to csv\n",
    "stations.to_csv('Resources/evstations_clean.csv')"
   ]
  },
  {
   "cell_type": "code",
   "execution_count": 10,
   "metadata": {},
   "outputs": [
    {
     "data": {
      "text/html": [
       "<div>\n",
       "<style scoped>\n",
       "    .dataframe tbody tr th:only-of-type {\n",
       "        vertical-align: middle;\n",
       "    }\n",
       "\n",
       "    .dataframe tbody tr th {\n",
       "        vertical-align: top;\n",
       "    }\n",
       "\n",
       "    .dataframe thead th {\n",
       "        text-align: right;\n",
       "    }\n",
       "</style>\n",
       "<table border=\"1\" class=\"dataframe\">\n",
       "  <thead>\n",
       "    <tr style=\"text-align: right;\">\n",
       "      <th></th>\n",
       "      <th>station_name</th>\n",
       "      <th>address</th>\n",
       "      <th>city</th>\n",
       "      <th>state</th>\n",
       "      <th>zip</th>\n",
       "      <th>access</th>\n",
       "      <th>ev_network</th>\n",
       "      <th>connector_type</th>\n",
       "      <th>lat</th>\n",
       "      <th>lng</th>\n",
       "    </tr>\n",
       "  </thead>\n",
       "  <tbody>\n",
       "    <tr>\n",
       "      <th>0</th>\n",
       "      <td>LADWP - Truesdale Center</td>\n",
       "      <td>11797 Truesdale St</td>\n",
       "      <td>Sun Valley</td>\n",
       "      <td>CA</td>\n",
       "      <td>91352</td>\n",
       "      <td>private</td>\n",
       "      <td>Non-Networked</td>\n",
       "      <td>CHADEMO J1772 J1772COMBO</td>\n",
       "      <td>34.248319</td>\n",
       "      <td>-118.387971</td>\n",
       "    </tr>\n",
       "    <tr>\n",
       "      <th>1</th>\n",
       "      <td>LADWP - West LA District Office</td>\n",
       "      <td>1394 S Sepulveda Blvd</td>\n",
       "      <td>Los Angeles</td>\n",
       "      <td>CA</td>\n",
       "      <td>90024</td>\n",
       "      <td>private</td>\n",
       "      <td>Non-Networked</td>\n",
       "      <td>J1772</td>\n",
       "      <td>34.052542</td>\n",
       "      <td>-118.448504</td>\n",
       "    </tr>\n",
       "    <tr>\n",
       "      <th>2</th>\n",
       "      <td>Los Angeles Convention Center</td>\n",
       "      <td>1201 S Figueroa St</td>\n",
       "      <td>Los Angeles</td>\n",
       "      <td>CA</td>\n",
       "      <td>90015</td>\n",
       "      <td>public</td>\n",
       "      <td>Non-Networked</td>\n",
       "      <td>J1772</td>\n",
       "      <td>34.040539</td>\n",
       "      <td>-118.271387</td>\n",
       "    </tr>\n",
       "    <tr>\n",
       "      <th>3</th>\n",
       "      <td>LADWP - John Ferraro Building</td>\n",
       "      <td>111 N Hope St</td>\n",
       "      <td>Los Angeles</td>\n",
       "      <td>CA</td>\n",
       "      <td>90012</td>\n",
       "      <td>private</td>\n",
       "      <td>Non-Networked</td>\n",
       "      <td>CHADEMO J1772 J1772COMBO</td>\n",
       "      <td>34.059133</td>\n",
       "      <td>-118.248589</td>\n",
       "    </tr>\n",
       "    <tr>\n",
       "      <th>4</th>\n",
       "      <td>LADWP - Haynes Power Plant</td>\n",
       "      <td>6801 E 2nd St</td>\n",
       "      <td>Long Beach</td>\n",
       "      <td>CA</td>\n",
       "      <td>90803</td>\n",
       "      <td>private</td>\n",
       "      <td>Non-Networked</td>\n",
       "      <td>CHADEMO J1772 J1772COMBO</td>\n",
       "      <td>33.759802</td>\n",
       "      <td>-118.096665</td>\n",
       "    </tr>\n",
       "  </tbody>\n",
       "</table>\n",
       "</div>"
      ],
      "text/plain": [
       "                      station_name                address         city state  \\\n",
       "0         LADWP - Truesdale Center     11797 Truesdale St   Sun Valley    CA   \n",
       "1  LADWP - West LA District Office  1394 S Sepulveda Blvd  Los Angeles    CA   \n",
       "2    Los Angeles Convention Center     1201 S Figueroa St  Los Angeles    CA   \n",
       "3    LADWP - John Ferraro Building          111 N Hope St  Los Angeles    CA   \n",
       "4       LADWP - Haynes Power Plant          6801 E 2nd St   Long Beach    CA   \n",
       "\n",
       "     zip   access     ev_network            connector_type        lat  \\\n",
       "0  91352  private  Non-Networked  CHADEMO J1772 J1772COMBO  34.248319   \n",
       "1  90024  private  Non-Networked                     J1772  34.052542   \n",
       "2  90015   public  Non-Networked                     J1772  34.040539   \n",
       "3  90012  private  Non-Networked  CHADEMO J1772 J1772COMBO  34.059133   \n",
       "4  90803  private  Non-Networked  CHADEMO J1772 J1772COMBO  33.759802   \n",
       "\n",
       "          lng  \n",
       "0 -118.387971  \n",
       "1 -118.448504  \n",
       "2 -118.271387  \n",
       "3 -118.248589  \n",
       "4 -118.096665  "
      ]
     },
     "execution_count": 10,
     "metadata": {},
     "output_type": "execute_result"
    }
   ],
   "source": [
    "stations.head()"
   ]
  }
 ],
 "metadata": {
  "kernelspec": {
   "display_name": "Python 3.9.7 ('base')",
   "language": "python",
   "name": "python3"
  },
  "language_info": {
   "codemirror_mode": {
    "name": "ipython",
    "version": 3
   },
   "file_extension": ".py",
   "mimetype": "text/x-python",
   "name": "python",
   "nbconvert_exporter": "python",
   "pygments_lexer": "ipython3",
   "version": "3.9.7"
  },
  "orig_nbformat": 4,
  "vscode": {
   "interpreter": {
    "hash": "5c1111a106d7ffaaa9f2643bb82b0d2e2dbd6e95a4929d570c8200f098d6bda7"
   }
  }
 },
 "nbformat": 4,
 "nbformat_minor": 2
}
